{
 "cells": [
  {
   "cell_type": "markdown",
   "metadata": {},
   "source": [
    "# Notebook auxiliar\n",
    "\n",
    "**Aluno:** Franklin Oliveira\n",
    "\n",
    "-----\n",
    "\n",
    "Nesse notebook, vamos coletar a série do índice Ibovespa que será utilizada no notebook principal. Os dados serão coletados do  portal de cotações históricas do [Uol](http://cotacoes.economia.uol.com.br/bolsas/cotacoes-historicas.html?indice=.bvsp&beginDay=1&beginMonth=1&beginYear=2000&endDay=15&endMonth=11&endYear=2019&size=200&page=1&period=)."
   ]
  },
  {
   "cell_type": "code",
   "execution_count": 135,
   "metadata": {
    "ExecuteTime": {
     "end_time": "2019-11-15T17:21:32.053464Z",
     "start_time": "2019-11-15T17:21:32.041104Z"
    }
   },
   "outputs": [],
   "source": [
    "import numpy as np\n",
    "import pandas as pd"
   ]
  },
  {
   "cell_type": "markdown",
   "metadata": {},
   "source": [
    "Fazendo download das cotações históricas do Ibovespa..."
   ]
  },
  {
   "cell_type": "code",
   "execution_count": 92,
   "metadata": {
    "ExecuteTime": {
     "end_time": "2019-11-15T16:48:00.008361Z",
     "start_time": "2019-11-15T16:48:00.004155Z"
    }
   },
   "outputs": [],
   "source": [
    "df = pd.DataFrame()\n",
    "for p in range(1,40):\n",
    "    try:\n",
    "        temp = pd.read_html('http://cotacoes.economia.uol.com.br/bolsas/cotacoes-historicas.html?indice=.bvsp&beginDay=1&beginMonth=1&beginYear=2000&endDay=15&endMonth=11&endYear=2019&size=200&page={}&period='.format(p),\n",
    "                        encoding='utf-8-sig', decimal='.')[1]\n",
    "        df = pd.concat([df,temp], sort=False)\n",
    "    except:\n",
    "        pass\n",
    "\n",
    "df = df.reset_index().drop('index', axis=1)\n",
    "df.to_csv('ibov.csv', sep=';', encoding='utf-8-sig')  # salva informações no arquivo ibov.csv"
   ]
  },
  {
   "cell_type": "markdown",
   "metadata": {},
   "source": [
    "Em nosso exercício, o Ibovespa é a nossa série de medições (*outputs*) $y = (y_1, \\dots, y_T)$ do modelo de espaço-estado."
   ]
  }
 ],
 "metadata": {
  "kernelspec": {
   "display_name": "Python 3",
   "language": "python",
   "name": "python3"
  },
  "language_info": {
   "codemirror_mode": {
    "name": "ipython",
    "version": 3
   },
   "file_extension": ".py",
   "mimetype": "text/x-python",
   "name": "python",
   "nbconvert_exporter": "python",
   "pygments_lexer": "ipython3",
   "version": "3.7.4"
  },
  "toc": {
   "base_numbering": 1,
   "nav_menu": {},
   "number_sections": false,
   "sideBar": true,
   "skip_h1_title": false,
   "title_cell": "Table of Contents",
   "title_sidebar": "Contents",
   "toc_cell": false,
   "toc_position": {},
   "toc_section_display": true,
   "toc_window_display": false
  },
  "varInspector": {
   "cols": {
    "lenName": 16,
    "lenType": 16,
    "lenVar": 40
   },
   "kernels_config": {
    "python": {
     "delete_cmd_postfix": "",
     "delete_cmd_prefix": "del ",
     "library": "var_list.py",
     "varRefreshCmd": "print(var_dic_list())"
    },
    "r": {
     "delete_cmd_postfix": ") ",
     "delete_cmd_prefix": "rm(",
     "library": "var_list.r",
     "varRefreshCmd": "cat(var_dic_list()) "
    }
   },
   "types_to_exclude": [
    "module",
    "function",
    "builtin_function_or_method",
    "instance",
    "_Feature"
   ],
   "window_display": false
  }
 },
 "nbformat": 4,
 "nbformat_minor": 2
}
